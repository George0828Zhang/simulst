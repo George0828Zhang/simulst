{
 "cells": [
  {
   "cell_type": "code",
   "execution_count": 1,
   "id": "57d1230f",
   "metadata": {},
   "outputs": [],
   "source": [
    "# %env FAIRSEQ=`realpath ../fairseq`\n",
    "# %env USERDIR=`realpath ../simultaneous_translation`\n",
    "# %env PYTHONPATH=%env USERDIR\"$FAIRSEQ:$PYTHONPATH\"\n",
    "# %env \n",
    "# %env DATABIN=../DATA/toy_data/data-bin\n",
    "# %env SRC=chr\n",
    "# %env TGT=num\n",
    "import sys\n",
    "sys.path.insert(0, \"../fairseq\")\n",
    "# sys.path.insert(0, \"../\")\n",
    "# %load_ext autoreload\n",
    "# %autoreload 2"
   ]
  },
  {
   "cell_type": "code",
   "execution_count": 2,
   "id": "4aff1529",
   "metadata": {},
   "outputs": [],
   "source": [
    "# https://github.com/pytorch/fairseq/blob/master/fairseq_cli/generate.py"
   ]
  },
  {
   "cell_type": "code",
   "execution_count": 20,
   "id": "cc0d4a34",
   "metadata": {},
   "outputs": [],
   "source": [
    "from fairseq import (\n",
    "    checkpoint_utils,\n",
    "    options,\n",
    "    quantization_utils,\n",
    "    tasks,\n",
    "    utils,\n",
    ")\n",
    "from torchinfo import summary\n",
    "import logging\n",
    "import os\n",
    "import matplotlib.pyplot as plt"
   ]
  },
  {
   "cell_type": "code",
   "execution_count": 4,
   "id": "ddbeded2",
   "metadata": {},
   "outputs": [],
   "source": [
    "checkpoint=\"../exp/checkpoints/toy_dist2/checkpoint_best.pt\"\n",
    "inference_config_yaml=\"../exp/infer_toy.yaml\"\n",
    "\n",
    "states = checkpoint_utils.load_checkpoint_to_cpu(\n",
    "    path=checkpoint, arg_overrides=None, load_on_all_ranks=False)\n",
    "cfg = states[\"cfg\"]\n",
    "cfg.task.inference_config_yaml = inference_config_yaml"
   ]
  },
  {
   "cell_type": "code",
   "execution_count": 5,
   "id": "0e7e530d",
   "metadata": {},
   "outputs": [],
   "source": [
    "logging.basicConfig(\n",
    "    format=\"%(asctime)s | %(levelname)s | %(name)s | %(message)s\",\n",
    "    datefmt=\"%Y-%m-%d %H:%M:%S\",\n",
    "    level=os.environ.get(\"LOGLEVEL\", \"INFO\").upper(),\n",
    "    stream=sys.stdout,\n",
    ")\n",
    "logger = logging.getLogger(\"fairseq_cli.train\")"
   ]
  },
  {
   "cell_type": "code",
   "execution_count": 6,
   "id": "9249d92a",
   "metadata": {},
   "outputs": [
    {
     "name": "stdout",
     "output_type": "stream",
     "text": [
      "2021-05-30 01:07:10 | INFO | fairseq.tasks.translation | [chr] dictionary: 1312 types\n",
      "2021-05-30 01:07:10 | INFO | fairseq.tasks.translation | [num] dictionary: 1312 types\n",
      "2021-05-30 01:07:10 | INFO | fairseq_cli.train | ================================================================================\n",
      "Layer (type:depth-idx)                                  Param #\n",
      "================================================================================\n",
      "ToySinkhornEncoderModel                                 --\n",
      "├─S2TSinkhornCascadedEncoder: 1-1                       --\n",
      "│    └─CausalTransformerEncoder: 2-1                    --\n",
      "│    │    └─FairseqDropout: 3-1                         --\n",
      "│    │    └─Embedding: 3-2                              335,872\n",
      "│    │    └─SinusoidalPositionalEmbedding: 3-3          --\n",
      "│    │    └─ModuleList: 3-4                             2,369,280\n",
      "│    │    └─FusedLayerNorm: 3-5                         512\n",
      "│    └─ModuleList: 2-2                                  --\n",
      "│    │    └─NonCausalTransformerEncoderLayer: 3-6       789,760\n",
      "│    │    └─NonCausalTransformerEncoderLayer: 3-7       789,760\n",
      "│    └─ModuleList: 2-3                                  --\n",
      "│    │    └─SinkhornTransformerDecoderLayer: 3-8        395,776\n",
      "├─Linear: 1-2                                           335,872\n",
      "================================================================================\n",
      "Total params: 5,016,832\n",
      "Trainable params: 5,016,832\n",
      "Non-trainable params: 0\n",
      "================================================================================\n",
      "2021-05-30 01:07:10 | INFO | fairseq_cli.train | task: TranslationWInferenceTask\n",
      "2021-05-30 01:07:10 | INFO | fairseq_cli.train | model: ToySinkhornEncoderModel\n",
      "2021-05-30 01:07:10 | INFO | fairseq_cli.train | criterion: LabelSmoothedCTCCriterion\n",
      "2021-05-30 01:07:10 | INFO | fairseq_cli.train | num. shared model params: 5,016,832 (num. trained: 5,016,832)\n"
     ]
    }
   ],
   "source": [
    "utils.import_user_module(cfg.common)\n",
    "\n",
    "# Setup task, e.g., translation, language modeling, etc.\n",
    "task = tasks.setup_task(cfg.task)\n",
    "# Build model and criterion\n",
    "model = task.build_model(cfg.model)\n",
    "criterion = task.build_criterion(cfg.criterion)\n",
    "logger.info(summary(model))\n",
    "logger.info(\"task: {}\".format(task.__class__.__name__))\n",
    "logger.info(\"model: {}\".format(model.__class__.__name__))\n",
    "logger.info(\"criterion: {}\".format(criterion.__class__.__name__))\n",
    "logger.info(\n",
    "    \"num. shared model params: {:,} (num. trained: {:,})\".format(\n",
    "        sum(p.numel() for p in model.parameters() if not getattr(p, \"expert\", False)),\n",
    "        sum(p.numel() for p in model.parameters() if not getattr(p, \"expert\", False) and p.requires_grad)\n",
    "    )\n",
    ")\n"
   ]
  },
  {
   "cell_type": "code",
   "execution_count": 7,
   "id": "f8d16ce1",
   "metadata": {},
   "outputs": [
    {
     "name": "stdout",
     "output_type": "stream",
     "text": [
      "2021-05-30 01:07:10 | INFO | fairseq_cli.train | loading model(s) from None\n"
     ]
    }
   ],
   "source": [
    "logger.info(\"loading model(s) from {}\".format(cfg.common_eval.path))\n",
    "model = task.build_model(cfg.model)\n",
    "model.load_state_dict(\n",
    "    states[\"model\"], strict=True, model_cfg=cfg.model\n",
    ")\n",
    "\n",
    "# Optimize ensemble for generation\n",
    "model.half()\n",
    "model.cuda()\n",
    "model.prepare_for_inference_(cfg)"
   ]
  },
  {
   "cell_type": "code",
   "execution_count": 8,
   "id": "8af46221",
   "metadata": {},
   "outputs": [
    {
     "name": "stdout",
     "output_type": "stream",
     "text": [
      "2021-05-30 01:07:13 | INFO | fairseq.data.data_utils | loaded 3,000 examples from: ../DATA/toy_data/data-bin/test.chr-num.chr\n",
      "2021-05-30 01:07:13 | INFO | fairseq.data.data_utils | loaded 3,000 examples from: ../DATA/toy_data/data-bin/test.chr-num.num\n",
      "2021-05-30 01:07:13 | INFO | fairseq.tasks.translation | ../DATA/toy_data/data-bin test chr-num 3000 examples\n"
     ]
    }
   ],
   "source": [
    "task.load_dataset(cfg.dataset.gen_subset, task_cfg=cfg.task)"
   ]
  },
  {
   "cell_type": "code",
   "execution_count": 9,
   "id": "12e2f8fe",
   "metadata": {},
   "outputs": [],
   "source": [
    "# Load dataset \n",
    "itr = task.get_batch_iterator(\n",
    "    dataset=task.dataset(cfg.dataset.gen_subset),\n",
    "    max_tokens=cfg.dataset.max_tokens,\n",
    "    max_sentences=cfg.dataset.batch_size,\n",
    "    max_positions=utils.resolve_max_positions(\n",
    "        task.max_positions(), model.max_positions() #*[m.max_positions() for m in models]\n",
    "    ),\n",
    "    ignore_invalid_inputs=cfg.dataset.skip_invalid_size_inputs_valid_test,\n",
    "    required_batch_size_multiple=cfg.dataset.required_batch_size_multiple,\n",
    "    seed=cfg.common.seed,\n",
    "    num_shards=cfg.distributed_training.distributed_world_size,\n",
    "    shard_id=cfg.distributed_training.distributed_rank,\n",
    "    num_workers=cfg.dataset.num_workers,\n",
    "    data_buffer_size=cfg.dataset.data_buffer_size,\n",
    ").next_epoch_itr(shuffle=False)\n",
    "\n",
    "generator = task.build_generator(\n",
    "    [model], cfg.generation, extra_gen_cls_kwargs=None\n",
    ")\n",
    "\n",
    "# # Handle tokenization and BPE\n",
    "# tokenizer = task.build_tokenizer(cfg.tokenizer)\n",
    "# bpe = task.build_bpe(cfg.bpe)\n",
    "\n",
    "# def decode_fn(x):\n",
    "#     if bpe is not None:\n",
    "#         x = bpe.decode(x)\n",
    "#     if tokenizer is not None:\n",
    "#         x = tokenizer.decode(x)\n",
    "#     return x\n",
    "\n",
    "# scorer = scoring.build_scorer(cfg.scoring, tgt_dict)"
   ]
  },
  {
   "cell_type": "code",
   "execution_count": 25,
   "id": "84c339d9",
   "metadata": {},
   "outputs": [],
   "source": [
    "for sample in itr:\n",
    "    sample = utils.move_to_cuda(sample)\n",
    "    if \"net_input\" not in sample:\n",
    "        continue\n",
    "\n",
    "    break\n",
    "\n",
    "logits, extra = model.forward(**sample[\"net_input\"])"
   ]
  },
  {
   "cell_type": "code",
   "execution_count": 30,
   "id": "2e9a161e",
   "metadata": {},
   "outputs": [
    {
     "data": {
      "text/plain": [
       "((128, 61, 61), dtype('float32'))"
      ]
     },
     "execution_count": 30,
     "metadata": {},
     "output_type": "execute_result"
    }
   ],
   "source": [
    "attn = extra[\"attn\"][0].data.float().cpu().numpy()\n",
    "attn.shape, attn.dtype"
   ]
  },
  {
   "cell_type": "code",
   "execution_count": 31,
   "id": "68076bc7",
   "metadata": {},
   "outputs": [
    {
     "data": {
      "text/plain": [
       "<matplotlib.image.AxesImage at 0x7fc9be7f0af0>"
      ]
     },
     "execution_count": 31,
     "metadata": {},
     "output_type": "execute_result"
    },
    {
     "data": {
      "image/png": "[encoded data removed]",
      "text/plain": [
       "<Figure size 432x288 with 1 Axes>"
      ]
     },
     "metadata": {
      "needs_background": "light"
     },
     "output_type": "display_data"
    }
   ],
   "source": [
    "plt.imshow(attn[0])"
   ]
  },
  {
   "cell_type": "code",
   "execution_count": 32,
   "id": "05c82871",
   "metadata": {},
   "outputs": [
    {
     "data": {
      "text/plain": [
       "<matplotlib.image.AxesImage at 0x7fc9be75d8e0>"
      ]
     },
     "execution_count": 32,
     "metadata": {},
     "output_type": "execute_result"
    },
    {
     "data": {
      "image/png": "[encoded data removed]",
      "text/plain": [
       "<Figure size 432x288 with 1 Axes>"
      ]
     },
     "metadata": {
      "needs_background": "light"
     },
     "output_type": "display_data"
    }
   ],
   "source": [
    "plt.imshow(attn[1])"
   ]
  },
  {
   "cell_type": "code",
   "execution_count": null,
   "id": "0bc30c41",
   "metadata": {},
   "outputs": [],
   "source": []
  }
 ],
 "metadata": {
  "kernelspec": {
   "display_name": "Python [conda env:apex] *",
   "language": "python",
   "name": "conda-env-apex-py"
  },
  "language_info": {
   "codemirror_mode": {
    "name": "ipython",
    "version": 3
   },
   "file_extension": ".py",
   "mimetype": "text/x-python",
   "name": "python",
   "nbconvert_exporter": "python",
   "pygments_lexer": "ipython3",
   "version": "3.8.5"
  }
 },
 "nbformat": 4,
 "nbformat_minor": 5
}
