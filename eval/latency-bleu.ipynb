{
 "cells": [
  {
   "cell_type": "code",
   "execution_count": null,
   "metadata": {},
   "outputs": [],
   "source": [
    "import json\n",
    "import numpy as np\n",
    "import matplotlib.pyplot as plt\n",
    "from pathlib import Path\n",
    "import re\n",
    "import pandas as pd\n",
    "import glob\n",
    "import seaborn as sns\n",
    "from collections import defaultdict\n",
    "sns.set_theme()"
   ]
  },
  {
   "cell_type": "code",
   "execution_count": null,
   "metadata": {},
   "outputs": [],
   "source": [
    "TGT=\"de\"\n",
    "DATA = \"mustc\"\n",
    "SPLIT = \"dev\"\n",
    "SPLIT = \"tst-COMMON\"\n",
    "RESULT = Path(f\"{DATA}_{TGT}_{SPLIT}-results\")\n",
    "MODELS = [\n",
    "    f\"mma_{TGT}_hard_aligned\",\n",
    "    f\"mma_{TGT}_infinite_lookback\",\n",
    "    f\"cif_{TGT}_align_ctc0_3_lat\",\n",
    "    f\"cif_{TGT}_il_sum_ctc0_3_lat\",\n",
    "]\n",
    "OUTPUT = Path(f\"./graphs/\")\n",
    "OUTPUT.mkdir(parents=True, exist_ok=True)\n",
    "SORTBY = \"DAL\"\n",
    "\n",
    "data = defaultdict(list)\n",
    "\n",
    "for m in MODELS:\n",
    "    for p in glob.glob(f\"{RESULT}/{m}*\"):\n",
    "\n",
    "        dat = json.load(open(f\"{p}/scores\"))\n",
    "        \n",
    "        data[m].append({\n",
    "            \"BLEU\": dat[\"Quality\"][\"BLEU\"],\n",
    "            \"AL\": dat[\"Latency\"][\"AL\"],\n",
    "            \"DAL\": dat[\"Latency\"][\"DAL\"],\n",
    "            \"AP\": dat[\"Latency\"][\"AP\"],\n",
    "#             \"AL_CA\": dat[\"Latency\"][\"AL_CA\"]\n",
    "        })\n",
    "        \n",
    "    data[m] = sorted(data[m], key=lambda x: x[SORTBY])"
   ]
  },
  {
   "cell_type": "code",
   "execution_count": null,
   "metadata": {},
   "outputs": [],
   "source": [
    "pd.DataFrame.from_dict(data, orient='index').round(2)"
   ]
  },
  {
   "cell_type": "code",
   "execution_count": null,
   "metadata": {},
   "outputs": [],
   "source": [
    "formal = {\n",
    "    \"BLEU\": \"BLEU\",\n",
    "    \"AL\": \"AL (ms)\", \n",
    "    \"DAL\": \"DAL (ms)\",\n",
    "    \"AP\": \"AP\", \n",
    "}\n",
    "MODELNAMES = [\n",
    "    \"MMA-H\",\n",
    "    \"MMA-IL\",\n",
    "    \"CIF-F\", \n",
    "    \"CIF-IL\", \n",
    "#     \"MMA-H (CA)\",\n",
    "#     \"MMA-IL (CA)\",\n",
    "#     \"CIF-F (CA)\", \n",
    "#     \"CIF-IL (CA)\", \n",
    "]\n",
    "STYLES = [\n",
    "    \"^-b\",\n",
    "    \"s-y\",\n",
    "    \"p-m\",\n",
    "    \"*-r\",\n",
    "    \"^:b\",\n",
    "    \"s:y\",\n",
    "    \"p:m\",\n",
    "    \"*:r\",\n",
    "]\n",
    "\n",
    "\n",
    "nmodel = len(MODELS)\n",
    "BLEUs = {\n",
    "    m: [ d[\"BLEU\"] for d in data[MODELS[i % nmodel]] ]\n",
    "    for i,m in enumerate(MODELNAMES)\n",
    "}\n",
    "ALs = {\n",
    "    m: [ d[\"AL\"] for d in data[MODELS[i % nmodel]] ]\n",
    "    for i,m in enumerate(MODELNAMES)\n",
    "}\n",
    "DALs = {\n",
    "    m: [ d[\"DAL\"] for d in data[MODELS[i % nmodel]] ]\n",
    "    for i,m in enumerate(MODELNAMES)\n",
    "}\n",
    "APs = {\n",
    "    m: [ d[\"AP\"] for d in data[MODELS[i % nmodel]] ]\n",
    "    for i,m in enumerate(MODELNAMES)\n",
    "}\n",
    "\n",
    "BLEUs"
   ]
  },
  {
   "cell_type": "code",
   "execution_count": null,
   "metadata": {},
   "outputs": [],
   "source": [
    "def plot(x, y, xlabel, ylabel, names=MODELNAMES, styles=STYLES, legend=False, file=None):\n",
    "    figsize=(4, 3)\n",
    "    dpi=200\n",
    "\n",
    "    fig = plt.figure(figsize=figsize, dpi=dpi)\n",
    "    ax = fig.add_subplot(111)\n",
    "\n",
    "    for i,m in enumerate(names):\n",
    "        ax.plot(x[m], y[m], styles[i%len(styles)], label=m, markersize=6 if \"(CA)\" in m else 8)\n",
    "\n",
    "    if legend:\n",
    "        ax.legend() # loc='upper right'\n",
    "    ax.autoscale()\n",
    "\n",
    "    ax.set_xlabel(xlabel)\n",
    "    ax.set_ylabel(ylabel)\n",
    "    fig.tight_layout()\n",
    "    fig.show()\n",
    "    if file is not None:\n",
    "        plt.savefig(\n",
    "            file if isinstance(file, str) else str(file.as_posix()),\n",
    "            dpi=dpi,\n",
    "            bbox_inches='tight', pad_inches=0)\n",
    "\n",
    "plot(APs, BLEUs, \"\", formal[\"BLEU\"], file=OUTPUT / f\"result_AP_{SPLIT}.pdf\")"
   ]
  },
  {
   "cell_type": "code",
   "execution_count": null,
   "metadata": {},
   "outputs": [],
   "source": [
    "plot(ALs, BLEUs, \"\", \"\", file=OUTPUT / f\"result_AL_{SPLIT}.pdf\")"
   ]
  },
  {
   "cell_type": "code",
   "execution_count": null,
   "metadata": {},
   "outputs": [],
   "source": [
    "plot(DALs, BLEUs, \"\", \"\", legend=True, file=OUTPUT / f\"result_DAL_{SPLIT}.pdf\")"
   ]
  },
  {
   "cell_type": "code",
   "execution_count": null,
   "metadata": {},
   "outputs": [],
   "source": []
  }
 ],
 "metadata": {
  "kernelspec": {
   "display_name": "Python [conda env:kaldi]",
   "language": "python",
   "name": "conda-env-kaldi-py"
  },
  "language_info": {
   "codemirror_mode": {
    "name": "ipython",
    "version": 3
   },
   "file_extension": ".py",
   "mimetype": "text/x-python",
   "name": "python",
   "nbconvert_exporter": "python",
   "pygments_lexer": "ipython3",
   "version": "3.8.10"
  }
 },
 "nbformat": 4,
 "nbformat_minor": 4
}
