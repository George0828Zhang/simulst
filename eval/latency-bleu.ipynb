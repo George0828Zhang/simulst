{
 "cells": [
  {
   "cell_type": "code",
   "execution_count": null,
   "metadata": {},
   "outputs": [],
   "source": [
    "import json\n",
    "import numpy as np\n",
    "import matplotlib.pyplot as plt\n",
    "from pathlib import Path\n",
    "import re\n",
    "import pandas as pd\n",
    "import glob\n",
    "import seaborn as sns\n",
    "from collections import defaultdict\n",
    "sns.set_theme()"
   ]
  },
  {
   "cell_type": "code",
   "execution_count": null,
   "metadata": {},
   "outputs": [],
   "source": [
    "TGT=\"de\"\n",
    "DATA = \"mustc\"\n",
    "SPLIT = \"dev\"\n",
    "SPLIT = \"tst-COMMON\"\n",
    "RESULT = Path(f\"{DATA}_{TGT}_{SPLIT}-results\")\n",
    "MODELS = [\n",
    "    f\"mma_{TGT}_hard_aligned\",\n",
    "    f\"mma_{TGT}_infinite_lookback\",\n",
    "    f\"cif_{TGT}_align_ctc0_3_lat\",\n",
    "    f\"cif_{TGT}_il_sum_ctc0_3_lat\",\n",
    "]\n",
    "OUTPUT = Path(f\"./graphs/\")\n",
    "OUTPUT.mkdir(parents=True, exist_ok=True)\n",
    "SORTBY = \"AL\"\n",
    "\n",
    "data = defaultdict(list)\n",
    "\n",
    "for m in MODELS:\n",
    "    for p in glob.glob(f\"{RESULT}/{m}*\"):\n",
    "\n",
    "        dat = json.load(open(f\"{p}/scores\"))\n",
    "        \n",
    "        data[m].append({\n",
    "            \"BLEU\": dat[\"Quality\"][\"BLEU\"],\n",
    "            \"AL\": dat[\"Latency\"][\"AL\"],\n",
    "            \"DAL\": dat[\"Latency\"][\"DAL\"],\n",
    "#             \"AL_CA\": dat[\"Latency\"][\"AL_CA\"]\n",
    "        })\n",
    "        \n",
    "    data[m] = sorted(data[m], key=lambda x: x[SORTBY])"
   ]
  },
  {
   "cell_type": "code",
   "execution_count": null,
   "metadata": {},
   "outputs": [],
   "source": [
    "pd.DataFrame.from_dict(data, orient='index').round(2)"
   ]
  },
  {
   "cell_type": "code",
   "execution_count": null,
   "metadata": {},
   "outputs": [],
   "source": [
    "formal = {\n",
    "    \"BLEU\": \"BLEU\",\n",
    "    \"AL\": \"AL (ms)\", \n",
    "    \"DAL\": \"DAL (ms)\",\n",
    "}\n",
    "MODELNAMES = [\n",
    "    \"MMA-H\",\n",
    "    \"MMA-IL\",\n",
    "    \"CIF-F\", \n",
    "    \"CIF-IL\", \n",
    "#     \"MMA-H (CA)\",\n",
    "#     \"MMA-IL (CA)\",\n",
    "#     \"CIF-F (CA)\", \n",
    "#     \"CIF-IL (CA)\", \n",
    "]\n",
    "STYLES = [\n",
    "    \"^-b\",\n",
    "    \"s-r\",\n",
    "    \"p-m\",\n",
    "    \"*-y\",\n",
    "    \"^:b\",\n",
    "    \"s:r\",\n",
    "    \"p:m\",\n",
    "    \"*:y\",\n",
    "]\n",
    "\n",
    "\n",
    "nmodel = len(MODELS)\n",
    "BLEUs = {\n",
    "    m: [ d[\"BLEU\"] for d in data[MODELS[i % nmodel]] ]\n",
    "    for i,m in enumerate(MODELNAMES)\n",
    "}\n",
    "ALs = {\n",
    "    m: [ d[\"AL\"] for d in data[MODELS[i % nmodel]] ]\n",
    "    for i,m in enumerate(MODELNAMES)\n",
    "}\n",
    "DALs = {\n",
    "    m: [ d[\"DAL\"] for d in data[MODELS[i % nmodel]] ]\n",
    "    for i,m in enumerate(MODELNAMES)\n",
    "}\n",
    "# AL_CAs = {\n",
    "#     m: [ d[\"AL_CA\"] for d in data[MODELS[i]] ]\n",
    "#     for i,m in enumerate(MODELNAMES)\n",
    "# }\n",
    "\n",
    "\n",
    "BLEUs"
   ]
  },
  {
   "cell_type": "code",
   "execution_count": null,
   "metadata": {},
   "outputs": [],
   "source": [
    "def plot(x, y, xlabel, ylabel, names=MODELNAMES, styles=STYLES, legend=False, file=None):\n",
    "    figsize=(3, 3)\n",
    "    dpi=200\n",
    "\n",
    "    fig = plt.figure(figsize=figsize, dpi=dpi)\n",
    "    ax = fig.add_subplot(111)\n",
    "\n",
    "    for i,m in enumerate(names):\n",
    "        ax.plot(x[m], y[m], styles[i%len(styles)], label=m, markersize=6 if \"(CA)\" in m else 8)\n",
    "\n",
    "    if legend:\n",
    "        ax.legend() # loc='upper right'\n",
    "    ax.autoscale()\n",
    "\n",
    "    ax.set_xlabel(xlabel)\n",
    "    ax.set_ylabel(ylabel)\n",
    "    fig.tight_layout()\n",
    "    fig.show()\n",
    "    if file is not None:\n",
    "        plt.savefig(\n",
    "            file if isinstance(file, str) else str(file.as_posix()),\n",
    "            dpi=dpi,\n",
    "            bbox_inches='tight', pad_inches=0)\n",
    "\n",
    "# plot(ALs, BLEUs, formal[\"AL\"], formal[\"BLEU\"], legend=True)\n",
    "plot(ALs, BLEUs, \"\", formal[\"BLEU\"], file=f\"result_AL_{SPLIT}.pdf\")"
   ]
  },
  {
   "cell_type": "code",
   "execution_count": null,
   "metadata": {},
   "outputs": [],
   "source": [
    "plot(DALs, BLEUs, \"\", \"\", file=f\"result_DAL_{SPLIT}.pdf\")"
   ]
  },
  {
   "cell_type": "code",
   "execution_count": null,
   "metadata": {},
   "outputs": [],
   "source": [
    "plot(DALs, BLEUs, \"\", \"\", legend=True, file=f\"result_DAL_{SPLIT}.pdf\")"
   ]
  },
  {
   "cell_type": "code",
   "execution_count": null,
   "metadata": {},
   "outputs": [],
   "source": [
    "RESULT = Path(f\"{DATA}_{TGT}_{SPLIT}_long-results\")\n",
    "\n",
    "for m in MODELS:\n",
    "    mlong = f\"{m}(l)\"\n",
    "    for p in glob.glob(f\"{RESULT}/{m}*\"):\n",
    "\n",
    "        dat = json.load(open(f\"{p}/scores\"))\n",
    "        \n",
    "        data[mlong].append({\n",
    "            \"BLEU\": dat[\"Quality\"][\"BLEU\"],\n",
    "            \"AL\": dat[\"Latency\"][\"AL\"],\n",
    "            \"DAL\": dat[\"Latency\"][\"DAL\"],\n",
    "        })\n",
    "        \n",
    "    data[mlong] = sorted(data[mlong], key=lambda x: x[SORTBY])\n",
    "\n",
    "MODELNAMES2 = [\n",
    "    \"MMA-H(l)\",\n",
    "    \"MMA-IL(l)\",\n",
    "    \"CIF-F(l)\", \n",
    "    \"CIF-IL(l)\",\n",
    "]\n",
    "\n",
    "BLEUs.update({\n",
    "    m: [ d[\"BLEU\"] for d in data[f\"{MODELS[i % nmodel]}(l)\"] ]\n",
    "    for i,m in enumerate(MODELNAMES2)\n",
    "})\n",
    "ALs.update({\n",
    "    m: [ d[\"AL\"] for d in data[f\"{MODELS[i % nmodel]}(l)\"] ]\n",
    "    for i,m in enumerate(MODELNAMES2)\n",
    "})\n",
    "DALs.update({\n",
    "    m: [ d[\"DAL\"] for d in data[f\"{MODELS[i % nmodel]}(l)\"] ]\n",
    "    for i,m in enumerate(MODELNAMES2)\n",
    "})"
   ]
  },
  {
   "cell_type": "code",
   "execution_count": null,
   "metadata": {},
   "outputs": [],
   "source": [
    "plot(ALs, BLEUs, formal[\"AL\"], formal[\"BLEU\"], MODELNAMES+MODELNAMES2, legend=True)"
   ]
  },
  {
   "cell_type": "code",
   "execution_count": null,
   "metadata": {},
   "outputs": [],
   "source": [
    "BLEUs\n"
   ]
  },
  {
   "cell_type": "code",
   "execution_count": null,
   "metadata": {},
   "outputs": [],
   "source": [
    "best_i = {m: np.argmax(BLEUs[m]) for m in MODELNAMES}\n",
    "best_record = {m: (BLEUs[f\"{m}(l)\"][best_i[m]], BLEUs[m][best_i[m]]) for m in MODELNAMES}\n",
    "{k: f\"{a-b:.02f}\" for k, (a, b) in best_record.items()}"
   ]
  },
  {
   "cell_type": "code",
   "execution_count": null,
   "metadata": {},
   "outputs": [],
   "source": [
    "best_record"
   ]
  },
  {
   "cell_type": "code",
   "execution_count": null,
   "metadata": {},
   "outputs": [],
   "source": [
    "def mean(x):\n",
    "    return sum(x) / len(x)\n",
    "{m: f'{mean([a-b for a, b in zip(BLEUs[f\"{m}(l)\"], BLEUs[m])]):.02f}' for m in MODELNAMES}"
   ]
  },
  {
   "cell_type": "code",
   "execution_count": null,
   "metadata": {},
   "outputs": [],
   "source": [
    "import sys\n",
    "sys.path.insert(0, \"/home/george/Projects/simulst/DATA\")\n",
    "from mustc.prep_mustc_data import (\n",
    "    MUSTC\n",
    ")\n",
    "dataset = MUSTC(\"/media/george/Data/mustc\", \"de\", \"dev\")\n",
    "durations = []\n",
    "for wav_path, offset, n_frames, sr, src_utt, tgt_utt, spk_id, utt_id in dataset.data:\n",
    "    durations.append(n_frames / sr)\n",
    "plt.hist(durations)"
   ]
  },
  {
   "cell_type": "code",
   "execution_count": null,
   "metadata": {},
   "outputs": [],
   "source": [
    "for c in [5, 10, 15, 20, 25, 30, 35, 40, 45, 50]:\n",
    "    num = len([d for d in durations if d > c])\n",
    "    print(c, \":\", num, f\"({num / len(durations) * 100: .02f}%)\")"
   ]
  },
  {
   "cell_type": "code",
   "execution_count": null,
   "metadata": {},
   "outputs": [],
   "source": [
    "sacrebleu.corpus_bleu"
   ]
  },
  {
   "cell_type": "code",
   "execution_count": null,
   "metadata": {},
   "outputs": [],
   "source": [
    "import sacrebleu\n",
    "with open(\"data_de/dev.de\", \"r\") as f:\n",
    "    ref_dev = [line.strip() for line in f]\n",
    "with open(\"data_de/tst-COMMON.de\", \"r\") as f:\n",
    "    ref_tst = [line.strip() for line in f]\n",
    "    \n",
    "models=[\n",
    "    \"mma_de_hard_aligned_0_2\",\n",
    "    \"mma_de_infinite_lookback_0_2\",\n",
    "    \"cif_de_align_ctc0_3_lat1_0\",\n",
    "    \"cif_de_il_sum_ctc0_3_lat1_0\"\n",
    "]\n",
    "    \n",
    "preds_dev = {}\n",
    "for m in models:\n",
    "    with open(f\"mustc_de_dev-results/{m}/prediction\", \"r\") as f:\n",
    "        preds_dev[m] = [line.strip() for line in f]\n",
    "preds_tst = {}\n",
    "for m in models:\n",
    "    with open(f\"mustc_de_tst-COMMON-results/{m}/prediction\", \"r\") as f:\n",
    "        preds_tst[m] = [line.strip() for line in f]\n",
    "\n",
    "print(\"full\")\n",
    "for m in preds_dev:\n",
    "    ref = ref_dev + ref_tst\n",
    "    hyp = preds_dev[m] + preds_tst[m]\n",
    "    print(f\"{sacrebleu.corpus_bleu(hyp, [ref]).score:.02f}\")\n",
    "print(\"20s\")\n",
    "for m in preds_dev:\n",
    "    ref = ref_dev[-40:] + ref_tst[-47:]\n",
    "    hyp = preds_dev[m][-40:] + preds_tst[m][-47:]\n",
    "    print(f\"{sacrebleu.corpus_bleu(hyp, [ref]).score:.02f}\")"
   ]
  },
  {
   "cell_type": "code",
   "execution_count": null,
   "metadata": {},
   "outputs": [],
   "source": []
  }
 ],
 "metadata": {
  "kernelspec": {
   "display_name": "Python [conda env:kaldi]",
   "language": "python",
   "name": "conda-env-kaldi-py"
  },
  "language_info": {
   "codemirror_mode": {
    "name": "ipython",
    "version": 3
   },
   "file_extension": ".py",
   "mimetype": "text/x-python",
   "name": "python",
   "nbconvert_exporter": "python",
   "pygments_lexer": "ipython3",
   "version": "3.8.10"
  }
 },
 "nbformat": 4,
 "nbformat_minor": 4
}
